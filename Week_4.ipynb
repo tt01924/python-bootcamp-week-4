{
 "cells": [
  {
   "cell_type": "markdown",
   "id": "65a34cb7-b15d-444e-b8a6-63dc8ba9de10",
   "metadata": {},
   "source": [
    "# Lists\n"
   ]
  },
  {
   "cell_type": "code",
   "execution_count": 3,
   "id": "84257e25-19e1-445e-97d7-3f5731b16f73",
   "metadata": {},
   "outputs": [
    {
     "name": "stdout",
     "output_type": "stream",
     "text": [
      "[5, 10, 15.2, 20]\n"
     ]
    }
   ],
   "source": [
    "# declaring a list of numbers\n",
    "nums = [5, 10, 15.2, 20]\n",
    "print(nums)"
   ]
  },
  {
   "cell_type": "code",
   "execution_count": 5,
   "id": "773f78af-6588-4431-875f-cf2ee1be85d1",
   "metadata": {},
   "outputs": [
    {
     "name": "stdout",
     "output_type": "stream",
     "text": [
      "10\n",
      "15.2\n"
     ]
    }
   ],
   "source": [
    "print(nums[1])\n",
    "num = nums[2]\n",
    "print(num)"
   ]
  },
  {
   "cell_type": "code",
   "execution_count": 7,
   "id": "71e6a847-0dae-4721-bc67-d5de7a86c064",
   "metadata": {},
   "outputs": [
    {
     "name": "stdout",
     "output_type": "stream",
     "text": [
      "5055483392\n"
     ]
    }
   ],
   "source": [
    "a = [5, 10]\n",
    "print(id(a))\n",
    "# large number represents location of storage in computers memory"
   ]
  },
  {
   "cell_type": "code",
   "execution_count": 9,
   "id": "a1d2c772-8371-4c41-a1cb-5017e03b78d9",
   "metadata": {},
   "outputs": [
    {
     "name": "stdout",
     "output_type": "stream",
     "text": [
      "a: [5, 10]\t b: [5, 10]\n",
      "Location a[0]: 4539475304\t Location b[0]: 4539475304\n",
      "a: [20, 10]\t b: [20, 10]\n"
     ]
    }
   ],
   "source": [
    "# understanding how lists are stored\n",
    "a = [5, 10]\n",
    "b = a\n",
    "print( \"a: {}\\t b: {}\".format(a, b))\n",
    "print( \"Location a[0]: {}\\t Location b[0]: {}\".format(id(a[0]), id(b[0])))\n",
    "a[0] = 20    # re-declaring the value of a[0] also changes b[0]\n",
    "print( \"a: {}\\t b: {}\".format(a, b))"
   ]
  },
  {
   "cell_type": "code",
   "execution_count": 11,
   "id": "98364b85-445c-474e-9f6e-bdd62a879a37",
   "metadata": {},
   "outputs": [
    {
     "name": "stdout",
     "output_type": "stream",
     "text": [
      "data: [50, 10, 15, 20]\t data_copy: [5, 10, 15, 20]\n"
     ]
    }
   ],
   "source": [
    "# using [:] to copy a list\n",
    "data = [5, 10, 15, 20]\n",
    "data_copy = data[:] # a single colon copies the list\n",
    "data[0] = 50\n",
    "print(\"data: {}\\t data_copy: {}\".format(data, data_copy))"
   ]
  },
  {
   "cell_type": "markdown",
   "id": "2ed73f0b-e487-4680-a662-c5cae4a04b23",
   "metadata": {},
   "source": [
    "# For loops"
   ]
  },
  {
   "cell_type": "code",
   "execution_count": 14,
   "id": "91c1b242-06f2-4105-a463-8252b18bffb6",
   "metadata": {},
   "outputs": [
    {
     "name": "stdout",
     "output_type": "stream",
     "text": [
      "Value: 0\n",
      "Value: 1\n",
      "Value: 2\n",
      "Value: 3\n",
      "Value: 4\n"
     ]
    }
   ],
   "source": [
    "# writing my first for loop using range\n",
    "for num in range(5):\n",
    "    print( \"Value: {}\".format(num))"
   ]
  },
  {
   "cell_type": "code",
   "execution_count": 16,
   "id": "115e9db4-f605-484a-a101-bdb730c60fc1",
   "metadata": {},
   "outputs": [
    {
     "name": "stdout",
     "output_type": "stream",
     "text": [
      "Value: J\n",
      "Value: o\n",
      "Value: h\n",
      "Value: n\n",
      "Value:  \n",
      "Value: S\n",
      "Value: m\n",
      "Value: i\n",
      "Value: t\n",
      "Value: h\n"
     ]
    }
   ],
   "source": [
    "# looping by element - printing all characters in a name using the 'in' keyword\n",
    "name = 'John Smith'\n",
    "for letter in name:\n",
    "    print(\"Value: {}\".format(letter))"
   ]
  },
  {
   "cell_type": "code",
   "execution_count": 18,
   "id": "05d985b9-ee0c-412b-ab22-3b7b24f60520",
   "metadata": {},
   "outputs": [
    {
     "name": "stdout",
     "output_type": "stream",
     "text": [
      "0\n",
      "1\n",
      "2\n",
      "4\n"
     ]
    }
   ],
   "source": [
    "# using the continue statement within a for loop\n",
    "for num in range(5):\n",
    "    if num == 3:\n",
    "        continue\n",
    "    print(num)"
   ]
  },
  {
   "cell_type": "code",
   "execution_count": 20,
   "id": "9f1120ea-020e-4fc0-bbc7-73cb45db1b72",
   "metadata": {},
   "outputs": [
    {
     "name": "stdout",
     "output_type": "stream",
     "text": [
      "0\n",
      "1\n",
      "2\n"
     ]
    }
   ],
   "source": [
    "# using 'break' to break out of a loop\n",
    "for num in range(5):\n",
    "    if num == 3:\n",
    "        break\n",
    "    print(num)"
   ]
  },
  {
   "cell_type": "code",
   "execution_count": 28,
   "id": "042cb182-c198-4360-aa35-f01b5d364655",
   "metadata": {},
   "outputs": [],
   "source": [
    "#setting a placeholder using the 'pass' keyword - v.useful for just framing out a program so we don't have to write code immediately \n",
    "for i in range(5):\n",
    "    # TODO: add code to print number\n",
    "    pass"
   ]
  },
  {
   "cell_type": "code",
   "execution_count": 30,
   "id": "5f6a6cbf-eccf-499d-880c-11959e658dba",
   "metadata": {},
   "outputs": [
    {
     "name": "stdout",
     "output_type": "stream",
     "text": [
      "0\n",
      "3\n",
      "6\n",
      "9\n",
      "12\n",
      "15\n",
      "18\n",
      "21\n",
      "24\n",
      "27\n",
      "30\n",
      "33\n",
      "36\n",
      "39\n",
      "42\n",
      "45\n",
      "48\n",
      "51\n",
      "54\n",
      "57\n",
      "60\n",
      "63\n",
      "66\n",
      "69\n",
      "72\n",
      "75\n",
      "78\n",
      "81\n",
      "84\n",
      "87\n",
      "90\n",
      "93\n",
      "96\n",
      "99\n"
     ]
    }
   ],
   "source": [
    "for num in range(0, 100, 3):\n",
    "    print(num)"
   ]
  },
  {
   "cell_type": "code",
   "execution_count": 32,
   "id": "5487aa6c-6c56-4d22-92fe-135f47cabf1b",
   "metadata": {},
   "outputs": [
    {
     "name": "stdin",
     "output_type": "stream",
     "text": [
      "Please enter a string:  hello\n"
     ]
    },
    {
     "name": "stdout",
     "output_type": "stream",
     "text": [
      "The vowels are: eo\n"
     ]
    }
   ],
   "source": [
    "user_input = input(\"Please enter a string: \")\n",
    "vowels = 'aeiouAEIOU'\n",
    "vowel_output = ''.join([char for char in user_input if char in vowels])\n",
    "print(\"The vowels are:\", vowel_output)\n",
    "    "
   ]
  },
  {
   "cell_type": "markdown",
   "id": "eb4d7c61-9918-40b2-99f6-88dea7678718",
   "metadata": {},
   "source": [
    "# While loops #\n",
    "## Used when you need to loop based on a condition rather than counting ##"
   ]
  },
  {
   "cell_type": "code",
   "execution_count": 39,
   "id": "ffbb72d9-2a51-4258-a9cf-8a5554c0d8f1",
   "metadata": {},
   "outputs": [
    {
     "name": "stdout",
     "output_type": "stream",
     "text": [
      "10\n",
      "9\n",
      "8\n",
      "7\n",
      "6\n",
      "5\n",
      "4\n",
      "3\n",
      "2\n",
      "1\n"
     ]
    }
   ],
   "source": [
    "# writing my first while loop\n",
    "health = 10\n",
    "while health > 0:\n",
    "    print(health)\n",
    "    health -= 1 # forgetting this line would result in an infinite loop!"
   ]
  },
  {
   "cell_type": "code",
   "execution_count": 41,
   "id": "74b38bbd-f124-41e5-a8ba-6ae458ebd547",
   "metadata": {},
   "outputs": [
    {
     "name": "stdout",
     "output_type": "stream",
     "text": [
      "0 0\n",
      "0 1\n",
      "0 2\n",
      "1 0\n",
      "1 1\n",
      "1 2\n"
     ]
    }
   ],
   "source": [
    "# using a nested loop\n",
    "for i in range(2): #outside loop\n",
    "    for j in range(3): #inside loop\n",
    "        print(i, j)"
   ]
  },
  {
   "cell_type": "markdown",
   "id": "abbd87e8-934e-47bc-882c-34a888932251",
   "metadata": {},
   "source": [
    "# Working with lists"
   ]
  },
  {
   "cell_type": "code",
   "execution_count": 54,
   "id": "7cf9d5ba-8678-43e9-8ae4-a5272337426d",
   "metadata": {},
   "outputs": [
    {
     "name": "stdout",
     "output_type": "stream",
     "text": [
      "3\n"
     ]
    }
   ],
   "source": [
    "# checking the number of items within a list\n",
    "nums = [5, 10, 15]\n",
    "length = len(nums)    #len() returns an integer\n",
    "print(length)"
   ]
  },
  {
   "cell_type": "code",
   "execution_count": 56,
   "id": "8fcd44e1-5036-4bd6-85e5-99914dfaf421",
   "metadata": {},
   "outputs": [
    {
     "name": "stdout",
     "output_type": "stream",
     "text": [
      "[10, 20, 5]\n"
     ]
    }
   ],
   "source": [
    "# adding an item to the back of a list \n",
    "nums = [10, 20]\n",
    "nums.append(5)\n",
    "print(nums)"
   ]
  },
  {
   "cell_type": "code",
   "execution_count": 64,
   "id": "e7f3df0a-c8ff-4bb5-8621-5439d62873ae",
   "metadata": {},
   "outputs": [
    {
     "name": "stdout",
     "output_type": "stream",
     "text": [
      "['glove', 'ball', 'base']\n"
     ]
    }
   ],
   "source": [
    "# adding a value to the beginning of the list\n",
    "words = ['ball', 'base']\n",
    "words.insert(0, 'glove')\n",
    "print(words)"
   ]
  },
  {
   "cell_type": "code",
   "execution_count": 68,
   "id": "97bbc28f-8a10-4785-a5ce-990015213b48",
   "metadata": {},
   "outputs": [
    {
     "name": "stdout",
     "output_type": "stream",
     "text": [
      "['baseball', 'hockey']\n"
     ]
    }
   ],
   "source": [
    "#using remove (instead of .pop) method with a try and except\n",
    "sports = ['baseball', 'soccer', 'hockey']\n",
    "try:\n",
    "    sports.remove('soccer')\n",
    "except:\n",
    "    print('That item does not exist') #If we didn't use try and except, the program would crash\n",
    "print(sports)"
   ]
  },
  {
   "cell_type": "code",
   "execution_count": 72,
   "id": "c36ed97a-3dae-4337-945c-b12b1f8de8b4",
   "metadata": {},
   "outputs": [
    {
     "name": "stdout",
     "output_type": "stream",
     "text": [
      "[5, 8, 0, 2] [0, 2, 5, 8]\n"
     ]
    }
   ],
   "source": [
    "# using sorted on lists \n",
    "nums =[5, 8, 0, 2]\n",
    "sorted_nums = sorted(nums)\n",
    "print(nums, sorted_nums)"
   ]
  },
  {
   "cell_type": "code",
   "execution_count": 74,
   "id": "c8e09795-6d76-4b42-92b1-1065872409fd",
   "metadata": {},
   "outputs": [
    {
     "name": "stdout",
     "output_type": "stream",
     "text": [
      "Empty\n"
     ]
    }
   ],
   "source": [
    "# using conditionals to see if a list is empty\n",
    "nums = []\n",
    "if not nums:\n",
    "    print('Empty')"
   ]
  },
  {
   "cell_type": "code",
   "execution_count": 86,
   "id": "66f3eeb0-f2e7-41a0-ba0e-58a02f7773e8",
   "metadata": {},
   "outputs": [
    {
     "name": "stdout",
     "output_type": "stream",
     "text": [
      "['Bob', 'Kenny', 'Amanda']\n"
     ]
    }
   ],
   "source": [
    "names = ['Bob', 'Kenny', 'Amanda', 'Bob', 'Kenny']\n",
    "no_duplicates = []\n",
    "for item in names:\n",
    "    if item not in no_duplicates:\n",
    "        no_duplicates.append(item)\n",
    "print(no_duplicates)"
   ]
  },
  {
   "cell_type": "markdown",
   "id": "0d64480b-14e5-4e5d-a1d2-54994c75495b",
   "metadata": {},
   "source": [
    "# Friday project:\n",
    "## Building hangman"
   ]
  },
  {
   "cell_type": "code",
   "execution_count": 15,
   "id": "1c973314-4a0d-41a7-90b8-63825d809f53",
   "metadata": {},
   "outputs": [
    {
     "name": "stdout",
     "output_type": "stream",
     "text": [
      "You guessed correctly!\n",
      "Congratulations, you guessed it correctly!\n"
     ]
    }
   ],
   "source": [
    "#import additional functions\n",
    "from random import choice\n",
    "from IPython.display import clear_output\n",
    "\n",
    "# declare game variables\n",
    "words = ['tree', 'basket', 'chair', 'paper', 'python']\n",
    "word = choice(words) #randomly chooses a word from words list\n",
    "guessed, lives, game_over = [], 7, False # multi-variable assignment\n",
    "\n",
    "# creating a list of underscores to the length of the word\n",
    "guesses = [\"_ \"] * len(word)\n",
    "\n",
    "# create the main game loop\n",
    "while not game_over:\n",
    "    # output game info\n",
    "    hidden_word = \"\".join(guesses)\n",
    "    print('word to guess: {}'.format(hidden_word))\n",
    "    print('Lives: {}'.format(lives))\n",
    "\n",
    "    ans = input(\"Type quit or guess a letter: \").lower()\n",
    "\n",
    "    clear_output() # clear all previous output\n",
    "    \n",
    "    if ans == 'quit':\n",
    "        print('Thanks for playing.')\n",
    "        game_over = True\n",
    "    elif ans in word: #check if letter is in word\n",
    "        print('You guessed correctly!')\n",
    "\n",
    "        # create a loop to change underscore to correct letter\n",
    "        for i in range(len(word)):\n",
    "            if word[i] == ans: #compare values at indexes\n",
    "                guesses[i] = ans\n",
    "    else:\n",
    "        lives -= 1\n",
    "        print('Incorrect, you lost a life.')\n",
    "\n",
    "    if lives <= 0:\n",
    "        print('You lost all your lives!')\n",
    "        game_over = True\n",
    "    elif word ==\"\".join(guesses):\n",
    "        print('Congratulations, you guessed it correctly!')\n",
    "        game_over = True"
   ]
  }
 ],
 "metadata": {
  "kernelspec": {
   "display_name": "Python 3 (ipykernel)",
   "language": "python",
   "name": "python3"
  },
  "language_info": {
   "codemirror_mode": {
    "name": "ipython",
    "version": 3
   },
   "file_extension": ".py",
   "mimetype": "text/x-python",
   "name": "python",
   "nbconvert_exporter": "python",
   "pygments_lexer": "ipython3",
   "version": "3.11.7"
  }
 },
 "nbformat": 4,
 "nbformat_minor": 5
}
